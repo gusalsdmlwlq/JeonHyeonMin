{
 "cells": [
  {
   "cell_type": "code",
   "execution_count": 1,
   "metadata": {},
   "outputs": [],
   "source": [
    "import tensorflow as tf\n",
    "import numpy as np\n",
    "import cv2\n",
    "import glob\n",
    "import os\n",
    "import random\n",
    "from matplotlib import pyplot as plt\n",
    "%matplotlib inline"
   ]
  },
  {
   "cell_type": "code",
   "execution_count": 2,
   "metadata": {},
   "outputs": [],
   "source": [
    "class preprocess:\n",
    "    def __init__(self):\n",
    "        self.sequences = []\n",
    "    def imread(self,file):\n",
    "        self.image = cv2.imread(file,0)\n",
    "    # images = [cv2.imread(file,0) for file in glob.glob(\"./image/new/new/1/1/3/x/*.png\")]\n",
    "    # images = [cv2.imread(file,0) for file in glob.glob(\"./image/new/new/1/1/4/o/*.png\")]\n",
    "    # images = [cv2.imread(file,0) for file in glob.glob(\"./image/new/new/1/1/4/x/*.png\")]\n",
    "    # images = [cv2.imread(file,0) for file in glob.glob(\"./image/new/new/1/1/5/o/*.png\")]\n",
    "    # images = [cv2.imread(file,0) for file in glob.glob(\"./image/new/new/1/1/5/x/*.png\")]\n",
    "    # images = [cv2.imread(file,0) for file in glob.glob(\"./image/new/new/2/positive_1/*.png\")]\n",
    "    # images = [cv2.imread(file,0) for file in glob.glob(\"./image/new/new/2/negative/*.png\")]\n",
    "        \n",
    "    def get_bbs(self):\n",
    "        image = self.image\n",
    "        iterations = 3\n",
    "        dilation_d = 1.2\n",
    "        dilation_max = (300, 300)\n",
    "        intersection_threshold = 0.1\n",
    "\n",
    "        bbs = self.get_text_region_proposals(image)\n",
    "        intermetiate_bbs = []\n",
    "        bbs_l = self.get_bounding_boxs_of_passages(bbs, iterations, intersection_threshold, dilation_d, \n",
    "                                              dilation_max, intermetiate_bbs)\n",
    "        return bbs_l\n",
    "    \n",
    "    def get_text_region_proposals(self,image, min_area=30, max_area=500, delta=1):\n",
    "        '''\n",
    "        Source: https://stackoverflow.com/questions/34398188/trying-to-plot-opencvs-mser-regions-using-matplotlib\n",
    "\n",
    "        Parameters\n",
    "        ----------\n",
    "\n",
    "        min_area: int, default 30\n",
    "            Suggested value: ~[5 - 50]\n",
    "\n",
    "        max_area: int, default 500\n",
    "            Suggested value: ~[500 - 800]\n",
    "\n",
    "        delta: int, default 3\n",
    "            Suggested value: ~[1-5]\n",
    "\n",
    "        '''\n",
    "        mser = cv2.MSER_create()\n",
    "        mser.setMinArea(min_area)\n",
    "        mser.setMaxArea(max_area)\n",
    "        mser.setDelta(delta)\n",
    "        boxes = []\n",
    "        coordinates,_ = mser.detectRegions(image)\n",
    "        bbs = []\n",
    "        for coord in coordinates:\n",
    "            bbox = cv2.boundingRect(coord)\n",
    "            x, y, w, h = bbox\n",
    "            if w < 10 or h < 10 or w/h > 5 or h/w > 5:\n",
    "                continue\n",
    "            bbs.append((x, y, w, h))\n",
    "        return bbs\n",
    "    def dilate_bbs(self, bbs, dilation_d, dilation_max):\n",
    "        bbs_l = []\n",
    "        for bb in bbs:\n",
    "            (x, y, w, h) = bb\n",
    "            (centre_x, centre_y) = (x + w/2, y + h/2)\n",
    "            (x1, y1, x2, y2) = (x, y, x + w, y + h)\n",
    "\n",
    "            dx = (centre_x - x1) * dilation_d\n",
    "            dy = (centre_y - y1) * dilation_d\n",
    "\n",
    "            if dilation_max:\n",
    "                if dx > dilation_max[0]:\n",
    "                    dx = dilation_max[0]\n",
    "                if dy > dilation_max[1]:\n",
    "                    dy = dilation_max[1]\n",
    "\n",
    "            x1_l = centre_x - dx\n",
    "            y1_l = centre_y - dy\n",
    "            x2_l = centre_x + dx\n",
    "            y2_l = centre_y + dy\n",
    "\n",
    "            bb_l = (int(x1_l), int(y1_l), int(x2_l - x1_l), int(y2_l - y1_l))\n",
    "            bbs_l.append(bb_l)\n",
    "        return bbs_l\n",
    "\n",
    "    def does_rect_overlap(self, bb1, bb2):\n",
    "        (x1_1, y1_1, w_1, h_1) = bb1\n",
    "        (x1_1, y1_1, x2_1, y2_1) = (x1_1, y1_1, x1_1 + w_1, y1_1 + h_1)\n",
    "\n",
    "        (x1_2, y1_2, w_2, h_2) = bb2\n",
    "        (x1_2, y1_2, x2_2, y2_2) = (x1_2, y1_2, x1_2 + w_2, y1_2 + h_2)\n",
    "\n",
    "        h_overlaps = True\n",
    "        v_overlaps = True\n",
    "        if (x1_1 > x2_2) or (x2_1 < x1_2):\n",
    "            h_overlaps = False\n",
    "        if (y1_1 > y2_2) or (y2_1 < y1_2):\n",
    "            v_overlaps = False\n",
    "        return h_overlaps and v_overlaps\n",
    "\n",
    "    def get_intersection_percentage(self, bb1, bb2):\n",
    "        # How much of bb1 is intersecting with bb2\n",
    "        if not self.does_rect_overlap(bb1, bb2):\n",
    "            return 0\n",
    "        # source: https://www.pyimagesearch.com/2016/11/07/intersection-over-union-iou-for-object-detection/\n",
    "        (x1_1, y1_1, w_1, h_1) = bb1\n",
    "        (x1_1, y1_1, x2_1, y2_1) = (x1_1, y1_1, x1_1 + w_1, y1_1 + h_1)\n",
    "\n",
    "        (x1_2, y1_2, w_2, h_2) = bb2\n",
    "        (x1_2, y1_2, x2_2, y2_2) = (x1_2, y1_2, x1_2 + w_2, y1_2 + h_2)\n",
    "\n",
    "        x_a = max(x1_1, x1_2)\n",
    "        y_a = max(y1_1, y1_2)\n",
    "        x_b = min(x2_1, x2_2)\n",
    "        y_b = min(y2_1, y2_2)\n",
    "\n",
    "        inter_area = (x_b - x_a + 1) * (y_b - y_a + 1)\n",
    "\n",
    "        bb1_area = (w_1 + 1) * (h_1 + 1)\n",
    "        bb2_area = (w_2 + 1) * (h_2 + 1)\n",
    "\n",
    "        intersection_percentage = inter_area / float(bb1_area)\n",
    "        return intersection_percentage\n",
    "\n",
    "    def get_intersection_percentage_matrix(self, bbs):\n",
    "        n = len(bbs)\n",
    "        ip = np.zeros(shape=(n, n))\n",
    "        for i in range(n):\n",
    "            for j in range(n):\n",
    "                ip[i, j] = self.get_intersection_percentage(bbs[i], bbs[j])\n",
    "        return ip \n",
    "\n",
    "    def make_new_bb_from_intersect_bbs(self, bbs):\n",
    "        max_x = np.max([bb[0] + bb[2] for bb in bbs])\n",
    "        min_x = np.min([bb[0] for bb in bbs])\n",
    "        max_y = np.max([bb[1] + bb[3] for bb in bbs])\n",
    "        min_y = np.min([bb[1] for bb in bbs])\n",
    "        return (min_x, min_y, max_x - min_x, max_y - min_y)\n",
    "\n",
    "    def reduce_bbs_by_inetersection_percentage(self, bbs, in_matrix_thresholded):\n",
    "        new_bbs = []\n",
    "        for i in range(in_matrix_thresholded.shape[0]):\n",
    "            in_i = in_matrix_thresholded[i, :]\n",
    "            intersections_indexes = np.where(in_i)[0]\n",
    "            if len(intersections_indexes) == 0:\n",
    "                new_bbs.append(bbs[i])\n",
    "            else:\n",
    "                intersection_bbs = [bbs[i]]\n",
    "                for intersections_index in intersections_indexes:\n",
    "                    intersection_bbs.append(bbs[intersections_index])\n",
    "                new_bb = self.make_new_bb_from_intersect_bbs(intersection_bbs)\n",
    "                if new_bb not in new_bbs:\n",
    "                    new_bbs.append(new_bb)\n",
    "        return new_bbs\n",
    "\n",
    "    '''\n",
    "    def contains(bb1, bb2):\n",
    "        # bb2 is in bb1\n",
    "        # source: https://stackoverflow.com/questions/21275714/check-rectangle-inside-rectangle-in-python\n",
    "        in_x = bb1[0] < bb2[0] < bb2[0] + bb2[2] < bb1[0] + bb1[2]\n",
    "        in_y = bb1[1] < bb2[1] < bb2[1] + bb2[3] < bb1[1] + bb1[3]\n",
    "        return in_x and in_y\n",
    "\n",
    "    def remove_bbs_in_another_bb(bbs):\n",
    "        new_bbs = []\n",
    "        for i in range(len(bbs)):\n",
    "            should_output_i = True\n",
    "            bb_i = bbs[i]\n",
    "            for j in range(len(bbs)):\n",
    "                bb_j = bbs[j]\n",
    "                if contains(bb_j, bb_i):\n",
    "                    should_output_i = False\n",
    "                    break\n",
    "            if should_output_i:\n",
    "                new_bbs.append(bb_i)\n",
    "        return new_bbs\n",
    "    '''\n",
    "\n",
    "    def reduce_intersecting_bbs(self, bbs, intersection_threshold):\n",
    "        new_bbs = bbs\n",
    "        while True:\n",
    "            old_bbs_no = len(bbs)\n",
    "            in_matrix = self.get_intersection_percentage_matrix(bbs)\n",
    "            in_matrix_thresholded = in_matrix > intersection_threshold\n",
    "            bbs = self.reduce_bbs_by_inetersection_percentage(bbs, in_matrix_thresholded)\n",
    "            if old_bbs_no == len(bbs):\n",
    "                break\n",
    "        return bbs\n",
    "\n",
    "    def get_bounding_boxs_of_passages(self, bbs, iterations, ip_threshold, dilation_d, dilation_max=None,\n",
    "                                      intermetiate_bbs=None):\n",
    "        '''    \n",
    "        Parameters\n",
    "        ----------\n",
    "        iterations: int\n",
    "\n",
    "        ios_threshold: \n",
    "\n",
    "        dilation_d: float\n",
    "            percentage to increase the bounding box\n",
    "\n",
    "        '''\n",
    "        for i in range(iterations):\n",
    "            bbs = self.dilate_bbs(bbs, dilation_d, dilation_max)\n",
    "            bbs = self.reduce_intersecting_bbs(bbs, ip_threshold)\n",
    "            if intermetiate_bbs is not None:\n",
    "                intermetiate_bbs.append(bbs)\n",
    "#             print(\"Running {}/{}, new #bbs {}\".format(i, iterations, len(bbs)))\n",
    "        return bbs\n"
   ]
  },
  {
   "cell_type": "code",
   "execution_count": 3,
   "metadata": {},
   "outputs": [],
   "source": [
    "class siamcnn:\n",
    "    def weight_variable(self,shape,name=None):\n",
    "        initial = tf.truncated_normal(shape, stddev=0.001)\n",
    "        return tf.Variable(initial, name=name)\n",
    "    \n",
    "    def conv2d(self,x,w,strides=[1,1,1,1],padding='SAME',name=None):\n",
    "        assert isinstance(x, tf.Tensor)\n",
    "        return tf.nn.conv2d(x,w,strides=strides,padding=padding,name=name)\n",
    "    \n",
    "    def relu(self,x,name=None):\n",
    "        return tf.nn.relu(x,name=name)\n",
    "    \n",
    "    def batch_norm(self,x):\n",
    "        mean, var = tf.nn.moments(x, axes=[0,1,2])\n",
    "        return tf.nn.batch_normalization(x, mean, var, 0, 1, 1e-5)\n",
    "    \n",
    "    def max_pool(self,x,name=None):\n",
    "        return tf.nn.max_pool(x,ksize=[1,2,2,1],strides=[1,2,2,1],padding=\"SAME\",name=name)\n",
    "    \n",
    "    def drop(self,x,name=None):\n",
    "        return tf.nn.dropout(x,keep_prob=self.dropout_keep_prob,name=name)\n",
    "    \n",
    "    def build_cnn(self, X, dropout, scope):\n",
    "        with tf.variable_scope(scope,reuse=tf.AUTO_REUSE):\n",
    "            self.conv1_weight = self.weight_variable(shape=[4,4,3,16],name=\"conv1_weight\")\n",
    "            self.conv2_weight = self.weight_variable(shape=[4,4,16,32],name=\"conv2_weight\")\n",
    "            self.conv3_weight = self.weight_variable(shape=[4,4,32,64],name=\"conv3_weight\") #[batch,32,128,128]\n",
    "            self.conv4_weight = self.weight_variable(shape=[32,128,64,32])\n",
    "            self.fc_weight = self.weight_variable(shape=[524288,32],name=\"fc_weight\")\n",
    "            self.fc_bias = self.weight_variable(shape=[32],name=\"fc_bias\")\n",
    "            self.conv1_layer = self.relu(self.batch_norm(self.max_pool(self.conv2d(X,self.conv1_weight,strides=[1,1,1,1],padding=\"SAME\",name=\"conv1_layer\"),name=\"conv1_pool\")))\n",
    "            self.conv2_layer = self.relu(self.batch_norm(self.max_pool(self.conv2d(self.conv1_layer,self.conv2_weight,strides=[1,1,1,1],padding=\"SAME\",name=\"conv2_layer\"),name=\"conv2_pool\")))\n",
    "            self.conv3_layer = self.relu(self.batch_norm(self.max_pool(self.conv2d(self.conv2_layer,self.conv3_weight,strides=[1,1,1,1],padding=\"SAME\",name=\"conv3_layer\"),name=\"conv3_pool\")))\n",
    "            self.conv4_layer = self.relu(self.batch_norm(self.max_pool(self.conv2d(self.conv3_layer,self.conv4_weight,strides=[1,1,1,1],padding=\"VALID\",name=\"conv4_layer\"),name=\"conv4_pool\")))\n",
    "#             self.conv3_layer = tf.reshape(self.conv3_layer,shape=[self.batchsize,-1])\n",
    "#             self.fc_layer = tf.add(tf.matmul(self.conv3_layer,self.fc_weight),self.fc_bias)\n",
    "#             self.output_layer = self.drop(self.fc_layer,name=\"output\")\n",
    "            self.output_layer = tf.reshape(self.conv4_layer,[self.batchsize,-1],name=\"output\")\n",
    "            return self.output_layer\n",
    "        \n",
    "    def __init__(self, alpha):\n",
    "        self.input_x = tf.placeholder(dtype=tf.float32,shape=[None,256,1024,3], name=\"input_x\")\n",
    "        self.input_p = tf.placeholder(dtype=tf.float32,shape=[None,256,1024,3], name=\"input_p\")\n",
    "        self.input_n = tf.placeholder(dtype=tf.float32,shape=[None,256,1024,3], name=\"input_n\")\n",
    "        self.input_target = tf.placeholder(dtype=tf.float32,shape=[1,256,1024,3], name=\"input_target\")\n",
    "        self.dropout_keep_prob = tf.placeholder(dtype=tf.float32,shape=(), name=\"dropout_keep_prob\")\n",
    "        self.batchsize = tf.placeholder(dtype=tf.int32,shape=(), name=\"input_batchsize\")\n",
    "        with tf.variable_scope(\"output\"):\n",
    "            self.output_x = self.build_cnn(self.input_x, self.dropout_keep_prob, \"cnn\")\n",
    "            self.output_p = self.build_cnn(self.input_p, self.dropout_keep_prob, \"cnn\")\n",
    "            self.output_n = self.build_cnn(self.input_n, self.dropout_keep_prob, \"cnn\")\n",
    "            self.distance_p = tf.sqrt(tf.reduce_sum(tf.square(tf.subtract(self.output_x, self.output_p)),axis=1))*0.01\n",
    "            self.distance_n = tf.sqrt(tf.reduce_sum(tf.square(tf.subtract(self.output_x, self.output_n)),axis=1))*0.01\n",
    "            self.output_target = self.build_cnn(self.input_target, self.dropout_keep_prob, \"cnn\")\n",
    "        with tf.variable_scope(\"loss\"):\n",
    "            self.loss = tf.reduce_sum(tf.maximum(self.distance_p-self.distance_n+alpha,0),axis=0)\n",
    "        with tf.variable_scope(\"target\"):\n",
    "            self.distance_t = tf.sqrt(tf.reduce_sum(tf.square(tf.subtract(self.output_x, self.output_target)),axis=1),name=\"target_distance\")\n",
    "            "
   ]
  },
  {
   "cell_type": "code",
   "execution_count": 4,
   "metadata": {},
   "outputs": [],
   "source": [
    "class readdata:\n",
    "    def __init__(self):\n",
    "        self.pairs = []\n",
    "        self.index = 0\n",
    "        images_o = [cv2.imread(file) for file in glob.glob(\"./image/3/positive/*.png\")]\n",
    "        images_x = [cv2.imread(file) for file in glob.glob(\"./image/3/x/*.png\")]\n",
    "        for i in range(len(images_o)-1):\n",
    "            for j in range(i+1,len(images_o)):\n",
    "                for k in images_x:\n",
    "                    self.pairs.append([images_o[i],images_o[j],k])\n",
    "        random.shuffle(self.pairs)\n",
    "        \n",
    "#         백지 이미지 바운딩 박스 추출\n",
    "        pre = preprocess()\n",
    "        pre.imread(\"./image/3/clean.png\")\n",
    "        self.boxes = pre.get_bbs()\n",
    "        \n",
    "    def next_batch(self,batch_size):\n",
    "        x_ = []\n",
    "        x_p = []\n",
    "        x_n = []\n",
    "        for i in range(batch_size):\n",
    "            if self.index > len(self.pairs)-1:\n",
    "                self.index = 0\n",
    "#                 백지 이미지의 바운딩 박스 부분 제거\n",
    "            x_temp = np.copy(self.pairs[self.index][0])\n",
    "            for box in self.boxes:\n",
    "                x,y,w,h = box\n",
    "                x,y = max(x,0),max(y,0)\n",
    "                x_temp[y:y+h,x:x+w] = 255\n",
    "            x_temp = cv2.resize(x_temp,(1024,256))\n",
    "            x_temp = x_temp/255\n",
    "            x_.append(x_temp)\n",
    "            \n",
    "            x_temp = np.copy(self.pairs[self.index][1])\n",
    "            for box in self.boxes:\n",
    "                x,y,w,h = box\n",
    "                x,y = max(x,0),max(y,0)\n",
    "                x_temp[y:y+h,x:x+w] = 255\n",
    "            x_temp = cv2.resize(x_temp,(1024,256))\n",
    "            x_temp = x_temp/255\n",
    "            x_p.append(x_temp)\n",
    "            \n",
    "            x_temp = np.copy(self.pairs[self.index][2])\n",
    "            for box in self.boxes:\n",
    "                x,y,w,h = box\n",
    "                x,y = max(x,0),max(y,0)\n",
    "                x_temp[y:y+h,x:x+w] = 255\n",
    "            x_temp = cv2.resize(x_temp,(1024,256))\n",
    "            x_temp = x_temp/255\n",
    "            x_n.append(x_temp)\n",
    "            \n",
    "            self.index = self.index + 1\n",
    "        return x_, x_p, x_n"
   ]
  },
  {
   "cell_type": "code",
   "execution_count": 5,
   "metadata": {},
   "outputs": [],
   "source": [
    "batch = readdata()"
   ]
  },
  {
   "cell_type": "code",
   "execution_count": 6,
   "metadata": {},
   "outputs": [],
   "source": [
    "batchsize = 4\n",
    "alpha = 1.0\n",
    "dropout_keep_prob = 0.5\n",
    "epochs = 5"
   ]
  },
  {
   "cell_type": "code",
   "execution_count": 7,
   "metadata": {
    "scrolled": true
   },
   "outputs": [
    {
     "name": "stdout",
     "output_type": "stream",
     "text": [
      "session start\n",
      "model initialize\n",
      "operation define\n",
      "variables initialize\n",
      "Train step 0, loss 3.99498\n",
      "[0.05005729 0.04088813 0.03999559 0.03785805]\n",
      "[0.0446994  0.0333887  0.04167727 0.05405152]\n",
      "Train step 1, loss 3.9972\n",
      "[0.05290803 0.05182224 0.02427127 0.03192766]\n",
      "[0.04777974 0.0315567  0.03583188 0.04856103]\n",
      "Train step 2, loss 4.00289\n",
      "[0.03111596 0.04976035 0.03453174 0.05213471]\n",
      "[0.03011526 0.06517229 0.01470098 0.05466228]\n",
      "Train step 3, loss 3.98752\n",
      "[0.02015536 0.0487758  0.05657925 0.04395083]\n",
      "[0.03467955 0.04768315 0.03873281 0.06084748]\n",
      "Train step 4, loss 3.98468\n",
      "[0.03038404 0.04241725 0.03141695 0.04947001]\n",
      "[0.05340584 0.03156471 0.035175   0.04886079]\n",
      "Train step 5, loss 3.98452\n",
      "[0.06005063 0.04731048 0.02676251 0.02476469]\n",
      "[0.05744841 0.03961287 0.02223188 0.05507201]\n",
      "Train step 6, loss 3.99182\n",
      "[0.05604681 0.04276153 0.04805935 0.03682696]\n",
      "[0.05316137 0.0474185  0.06092298 0.03037254]\n",
      "Train step 7, loss 3.99208\n",
      "[0.04565313 0.03212344 0.05059128 0.05015287]\n",
      "[0.05227171 0.04872909 0.03692751 0.04851637]\n",
      "Train step 8, loss 4.01507\n",
      "[0.04821486 0.0370721  0.04327824 0.04880251]\n",
      "[0.05041181 0.03022797 0.04442711 0.03722798]\n",
      "Train step 9, loss 4.00082\n",
      "[0.04358056 0.04306543 0.03606979 0.0466252 ]\n",
      "[0.04360059 0.05180128 0.02814748 0.04497545]\n",
      "Train step 10, loss 4.01141\n",
      "[0.05053719 0.05385216 0.04415715 0.04155117]\n",
      "[0.05564182 0.03821432 0.05472812 0.03009909]\n",
      "Train step 11, loss 3.99861\n",
      "[0.03354447 0.04126593 0.04575151 0.04063789]\n",
      "[0.03083985 0.03979401 0.05988249 0.03207796]\n",
      "Train step 12, loss 4.00212\n",
      "[0.04062477 0.05666528 0.03036535 0.0427872 ]\n",
      "[0.03890998 0.05985487 0.02304461 0.04651745]\n"
     ]
    },
    {
     "ename": "KeyboardInterrupt",
     "evalue": "",
     "output_type": "error",
     "traceback": [
      "\u001b[1;31m---------------------------------------------------------------------------\u001b[0m",
      "\u001b[1;31mKeyboardInterrupt\u001b[0m                         Traceback (most recent call last)",
      "\u001b[1;32m<ipython-input-7-951a3840ee04>\u001b[0m in \u001b[0;36m<module>\u001b[1;34m\u001b[0m\n\u001b[0;32m     40\u001b[0m         \u001b[1;32mfor\u001b[0m \u001b[0mi\u001b[0m \u001b[1;32min\u001b[0m \u001b[0mrange\u001b[0m\u001b[1;33m(\u001b[0m\u001b[1;36m100\u001b[0m\u001b[1;33m)\u001b[0m\u001b[1;33m:\u001b[0m\u001b[1;33m\u001b[0m\u001b[1;33m\u001b[0m\u001b[0m\n\u001b[0;32m     41\u001b[0m             \u001b[0mx\u001b[0m\u001b[1;33m,\u001b[0m \u001b[0mx_p\u001b[0m\u001b[1;33m,\u001b[0m \u001b[0mx_n\u001b[0m \u001b[1;33m=\u001b[0m \u001b[0mbatch\u001b[0m\u001b[1;33m.\u001b[0m\u001b[0mnext_batch\u001b[0m\u001b[1;33m(\u001b[0m\u001b[0mbatchsize\u001b[0m\u001b[1;33m)\u001b[0m\u001b[1;33m\u001b[0m\u001b[1;33m\u001b[0m\u001b[0m\n\u001b[1;32m---> 42\u001b[1;33m             \u001b[0mtrain_step\u001b[0m\u001b[1;33m(\u001b[0m\u001b[0mx\u001b[0m\u001b[1;33m,\u001b[0m \u001b[0mx_p\u001b[0m\u001b[1;33m,\u001b[0m \u001b[0mx_n\u001b[0m\u001b[1;33m,\u001b[0m \u001b[0mi\u001b[0m\u001b[1;33m)\u001b[0m\u001b[1;33m\u001b[0m\u001b[1;33m\u001b[0m\u001b[0m\n\u001b[0m\u001b[0;32m     43\u001b[0m         \u001b[0msaver\u001b[0m \u001b[1;33m=\u001b[0m \u001b[0mtf\u001b[0m\u001b[1;33m.\u001b[0m\u001b[0mtrain\u001b[0m\u001b[1;33m.\u001b[0m\u001b[0mSaver\u001b[0m\u001b[1;33m(\u001b[0m\u001b[1;33m)\u001b[0m\u001b[1;33m\u001b[0m\u001b[1;33m\u001b[0m\u001b[0m\n\u001b[0;32m     44\u001b[0m         \u001b[0msaver\u001b[0m\u001b[1;33m.\u001b[0m\u001b[0msave\u001b[0m\u001b[1;33m(\u001b[0m\u001b[0msess\u001b[0m\u001b[1;33m,\u001b[0m\u001b[0mcheckpoint_prefix\u001b[0m\u001b[1;33m)\u001b[0m\u001b[1;33m\u001b[0m\u001b[1;33m\u001b[0m\u001b[0m\n",
      "\u001b[1;32m<ipython-input-7-951a3840ee04>\u001b[0m in \u001b[0;36mtrain_step\u001b[1;34m(x_batch, x_p_batch, x_n_batch, iter)\u001b[0m\n\u001b[0;32m     33\u001b[0m                 \u001b[0msiam\u001b[0m\u001b[1;33m.\u001b[0m\u001b[0mbatchsize\u001b[0m\u001b[1;33m:\u001b[0m \u001b[0mbatchsize\u001b[0m\u001b[1;33m\u001b[0m\u001b[1;33m\u001b[0m\u001b[0m\n\u001b[0;32m     34\u001b[0m             }\n\u001b[1;32m---> 35\u001b[1;33m             \u001b[0m_\u001b[0m\u001b[1;33m,\u001b[0m \u001b[0mloss\u001b[0m\u001b[1;33m,\u001b[0m \u001b[0mdist_p\u001b[0m\u001b[1;33m,\u001b[0m \u001b[0mdist_n\u001b[0m \u001b[1;33m=\u001b[0m \u001b[0msess\u001b[0m\u001b[1;33m.\u001b[0m\u001b[0mrun\u001b[0m\u001b[1;33m(\u001b[0m\u001b[1;33m[\u001b[0m\u001b[0mtrain_op\u001b[0m\u001b[1;33m,\u001b[0m \u001b[0msiam\u001b[0m\u001b[1;33m.\u001b[0m\u001b[0mloss\u001b[0m\u001b[1;33m,\u001b[0m \u001b[0msiam\u001b[0m\u001b[1;33m.\u001b[0m\u001b[0mdistance_p\u001b[0m\u001b[1;33m,\u001b[0m \u001b[0msiam\u001b[0m\u001b[1;33m.\u001b[0m\u001b[0mdistance_n\u001b[0m\u001b[1;33m]\u001b[0m\u001b[1;33m,\u001b[0m\u001b[0mfeed_dict\u001b[0m\u001b[1;33m=\u001b[0m\u001b[0mfeed_dict\u001b[0m\u001b[1;33m)\u001b[0m\u001b[1;33m\u001b[0m\u001b[1;33m\u001b[0m\u001b[0m\n\u001b[0m\u001b[0;32m     36\u001b[0m             \u001b[0mprint\u001b[0m\u001b[1;33m(\u001b[0m\u001b[1;34m\"Train step {}, loss {:g}\"\u001b[0m\u001b[1;33m.\u001b[0m\u001b[0mformat\u001b[0m\u001b[1;33m(\u001b[0m\u001b[0miter\u001b[0m\u001b[1;33m,\u001b[0m\u001b[0mloss\u001b[0m\u001b[1;33m)\u001b[0m\u001b[1;33m)\u001b[0m\u001b[1;33m\u001b[0m\u001b[1;33m\u001b[0m\u001b[0m\n\u001b[0;32m     37\u001b[0m             \u001b[0mprint\u001b[0m\u001b[1;33m(\u001b[0m\u001b[0mdist_p\u001b[0m\u001b[1;33m[\u001b[0m\u001b[1;36m0\u001b[0m\u001b[1;33m:\u001b[0m\u001b[1;36m10\u001b[0m\u001b[1;33m]\u001b[0m\u001b[1;33m)\u001b[0m\u001b[1;33m\u001b[0m\u001b[1;33m\u001b[0m\u001b[0m\n",
      "\u001b[1;32m~\\AppData\\Local\\Programs\\Python\\Python36-32\\Lib\\conda\\lib\\site-packages\\tensorflow\\python\\client\\session.py\u001b[0m in \u001b[0;36mrun\u001b[1;34m(self, fetches, feed_dict, options, run_metadata)\u001b[0m\n\u001b[0;32m    927\u001b[0m     \u001b[1;32mtry\u001b[0m\u001b[1;33m:\u001b[0m\u001b[1;33m\u001b[0m\u001b[1;33m\u001b[0m\u001b[0m\n\u001b[0;32m    928\u001b[0m       result = self._run(None, fetches, feed_dict, options_ptr,\n\u001b[1;32m--> 929\u001b[1;33m                          run_metadata_ptr)\n\u001b[0m\u001b[0;32m    930\u001b[0m       \u001b[1;32mif\u001b[0m \u001b[0mrun_metadata\u001b[0m\u001b[1;33m:\u001b[0m\u001b[1;33m\u001b[0m\u001b[1;33m\u001b[0m\u001b[0m\n\u001b[0;32m    931\u001b[0m         \u001b[0mproto_data\u001b[0m \u001b[1;33m=\u001b[0m \u001b[0mtf_session\u001b[0m\u001b[1;33m.\u001b[0m\u001b[0mTF_GetBuffer\u001b[0m\u001b[1;33m(\u001b[0m\u001b[0mrun_metadata_ptr\u001b[0m\u001b[1;33m)\u001b[0m\u001b[1;33m\u001b[0m\u001b[1;33m\u001b[0m\u001b[0m\n",
      "\u001b[1;32m~\\AppData\\Local\\Programs\\Python\\Python36-32\\Lib\\conda\\lib\\site-packages\\tensorflow\\python\\client\\session.py\u001b[0m in \u001b[0;36m_run\u001b[1;34m(self, handle, fetches, feed_dict, options, run_metadata)\u001b[0m\n\u001b[0;32m   1150\u001b[0m     \u001b[1;32mif\u001b[0m \u001b[0mfinal_fetches\u001b[0m \u001b[1;32mor\u001b[0m \u001b[0mfinal_targets\u001b[0m \u001b[1;32mor\u001b[0m \u001b[1;33m(\u001b[0m\u001b[0mhandle\u001b[0m \u001b[1;32mand\u001b[0m \u001b[0mfeed_dict_tensor\u001b[0m\u001b[1;33m)\u001b[0m\u001b[1;33m:\u001b[0m\u001b[1;33m\u001b[0m\u001b[1;33m\u001b[0m\u001b[0m\n\u001b[0;32m   1151\u001b[0m       results = self._do_run(handle, final_targets, final_fetches,\n\u001b[1;32m-> 1152\u001b[1;33m                              feed_dict_tensor, options, run_metadata)\n\u001b[0m\u001b[0;32m   1153\u001b[0m     \u001b[1;32melse\u001b[0m\u001b[1;33m:\u001b[0m\u001b[1;33m\u001b[0m\u001b[1;33m\u001b[0m\u001b[0m\n\u001b[0;32m   1154\u001b[0m       \u001b[0mresults\u001b[0m \u001b[1;33m=\u001b[0m \u001b[1;33m[\u001b[0m\u001b[1;33m]\u001b[0m\u001b[1;33m\u001b[0m\u001b[1;33m\u001b[0m\u001b[0m\n",
      "\u001b[1;32m~\\AppData\\Local\\Programs\\Python\\Python36-32\\Lib\\conda\\lib\\site-packages\\tensorflow\\python\\client\\session.py\u001b[0m in \u001b[0;36m_do_run\u001b[1;34m(self, handle, target_list, fetch_list, feed_dict, options, run_metadata)\u001b[0m\n\u001b[0;32m   1326\u001b[0m     \u001b[1;32mif\u001b[0m \u001b[0mhandle\u001b[0m \u001b[1;32mis\u001b[0m \u001b[1;32mNone\u001b[0m\u001b[1;33m:\u001b[0m\u001b[1;33m\u001b[0m\u001b[1;33m\u001b[0m\u001b[0m\n\u001b[0;32m   1327\u001b[0m       return self._do_call(_run_fn, feeds, fetches, targets, options,\n\u001b[1;32m-> 1328\u001b[1;33m                            run_metadata)\n\u001b[0m\u001b[0;32m   1329\u001b[0m     \u001b[1;32melse\u001b[0m\u001b[1;33m:\u001b[0m\u001b[1;33m\u001b[0m\u001b[1;33m\u001b[0m\u001b[0m\n\u001b[0;32m   1330\u001b[0m       \u001b[1;32mreturn\u001b[0m \u001b[0mself\u001b[0m\u001b[1;33m.\u001b[0m\u001b[0m_do_call\u001b[0m\u001b[1;33m(\u001b[0m\u001b[0m_prun_fn\u001b[0m\u001b[1;33m,\u001b[0m \u001b[0mhandle\u001b[0m\u001b[1;33m,\u001b[0m \u001b[0mfeeds\u001b[0m\u001b[1;33m,\u001b[0m \u001b[0mfetches\u001b[0m\u001b[1;33m)\u001b[0m\u001b[1;33m\u001b[0m\u001b[1;33m\u001b[0m\u001b[0m\n",
      "\u001b[1;32m~\\AppData\\Local\\Programs\\Python\\Python36-32\\Lib\\conda\\lib\\site-packages\\tensorflow\\python\\client\\session.py\u001b[0m in \u001b[0;36m_do_call\u001b[1;34m(self, fn, *args)\u001b[0m\n\u001b[0;32m   1332\u001b[0m   \u001b[1;32mdef\u001b[0m \u001b[0m_do_call\u001b[0m\u001b[1;33m(\u001b[0m\u001b[0mself\u001b[0m\u001b[1;33m,\u001b[0m \u001b[0mfn\u001b[0m\u001b[1;33m,\u001b[0m \u001b[1;33m*\u001b[0m\u001b[0margs\u001b[0m\u001b[1;33m)\u001b[0m\u001b[1;33m:\u001b[0m\u001b[1;33m\u001b[0m\u001b[1;33m\u001b[0m\u001b[0m\n\u001b[0;32m   1333\u001b[0m     \u001b[1;32mtry\u001b[0m\u001b[1;33m:\u001b[0m\u001b[1;33m\u001b[0m\u001b[1;33m\u001b[0m\u001b[0m\n\u001b[1;32m-> 1334\u001b[1;33m       \u001b[1;32mreturn\u001b[0m \u001b[0mfn\u001b[0m\u001b[1;33m(\u001b[0m\u001b[1;33m*\u001b[0m\u001b[0margs\u001b[0m\u001b[1;33m)\u001b[0m\u001b[1;33m\u001b[0m\u001b[1;33m\u001b[0m\u001b[0m\n\u001b[0m\u001b[0;32m   1335\u001b[0m     \u001b[1;32mexcept\u001b[0m \u001b[0merrors\u001b[0m\u001b[1;33m.\u001b[0m\u001b[0mOpError\u001b[0m \u001b[1;32mas\u001b[0m \u001b[0me\u001b[0m\u001b[1;33m:\u001b[0m\u001b[1;33m\u001b[0m\u001b[1;33m\u001b[0m\u001b[0m\n\u001b[0;32m   1336\u001b[0m       \u001b[0mmessage\u001b[0m \u001b[1;33m=\u001b[0m \u001b[0mcompat\u001b[0m\u001b[1;33m.\u001b[0m\u001b[0mas_text\u001b[0m\u001b[1;33m(\u001b[0m\u001b[0me\u001b[0m\u001b[1;33m.\u001b[0m\u001b[0mmessage\u001b[0m\u001b[1;33m)\u001b[0m\u001b[1;33m\u001b[0m\u001b[1;33m\u001b[0m\u001b[0m\n",
      "\u001b[1;32m~\\AppData\\Local\\Programs\\Python\\Python36-32\\Lib\\conda\\lib\\site-packages\\tensorflow\\python\\client\\session.py\u001b[0m in \u001b[0;36m_run_fn\u001b[1;34m(feed_dict, fetch_list, target_list, options, run_metadata)\u001b[0m\n\u001b[0;32m   1317\u001b[0m       \u001b[0mself\u001b[0m\u001b[1;33m.\u001b[0m\u001b[0m_extend_graph\u001b[0m\u001b[1;33m(\u001b[0m\u001b[1;33m)\u001b[0m\u001b[1;33m\u001b[0m\u001b[1;33m\u001b[0m\u001b[0m\n\u001b[0;32m   1318\u001b[0m       return self._call_tf_sessionrun(\n\u001b[1;32m-> 1319\u001b[1;33m           options, feed_dict, fetch_list, target_list, run_metadata)\n\u001b[0m\u001b[0;32m   1320\u001b[0m \u001b[1;33m\u001b[0m\u001b[0m\n\u001b[0;32m   1321\u001b[0m     \u001b[1;32mdef\u001b[0m \u001b[0m_prun_fn\u001b[0m\u001b[1;33m(\u001b[0m\u001b[0mhandle\u001b[0m\u001b[1;33m,\u001b[0m \u001b[0mfeed_dict\u001b[0m\u001b[1;33m,\u001b[0m \u001b[0mfetch_list\u001b[0m\u001b[1;33m)\u001b[0m\u001b[1;33m:\u001b[0m\u001b[1;33m\u001b[0m\u001b[1;33m\u001b[0m\u001b[0m\n",
      "\u001b[1;32m~\\AppData\\Local\\Programs\\Python\\Python36-32\\Lib\\conda\\lib\\site-packages\\tensorflow\\python\\client\\session.py\u001b[0m in \u001b[0;36m_call_tf_sessionrun\u001b[1;34m(self, options, feed_dict, fetch_list, target_list, run_metadata)\u001b[0m\n\u001b[0;32m   1405\u001b[0m     return tf_session.TF_SessionRun_wrapper(\n\u001b[0;32m   1406\u001b[0m         \u001b[0mself\u001b[0m\u001b[1;33m.\u001b[0m\u001b[0m_session\u001b[0m\u001b[1;33m,\u001b[0m \u001b[0moptions\u001b[0m\u001b[1;33m,\u001b[0m \u001b[0mfeed_dict\u001b[0m\u001b[1;33m,\u001b[0m \u001b[0mfetch_list\u001b[0m\u001b[1;33m,\u001b[0m \u001b[0mtarget_list\u001b[0m\u001b[1;33m,\u001b[0m\u001b[1;33m\u001b[0m\u001b[1;33m\u001b[0m\u001b[0m\n\u001b[1;32m-> 1407\u001b[1;33m         run_metadata)\n\u001b[0m\u001b[0;32m   1408\u001b[0m \u001b[1;33m\u001b[0m\u001b[0m\n\u001b[0;32m   1409\u001b[0m   \u001b[1;32mdef\u001b[0m \u001b[0m_call_tf_sessionprun\u001b[0m\u001b[1;33m(\u001b[0m\u001b[0mself\u001b[0m\u001b[1;33m,\u001b[0m \u001b[0mhandle\u001b[0m\u001b[1;33m,\u001b[0m \u001b[0mfeed_dict\u001b[0m\u001b[1;33m,\u001b[0m \u001b[0mfetch_list\u001b[0m\u001b[1;33m)\u001b[0m\u001b[1;33m:\u001b[0m\u001b[1;33m\u001b[0m\u001b[1;33m\u001b[0m\u001b[0m\n",
      "\u001b[1;31mKeyboardInterrupt\u001b[0m: "
     ]
    }
   ],
   "source": [
    "import os\n",
    "os.environ[\"CUDA_VISIBLE_DEVICES\"]=\"0\"\n",
    "\n",
    "with tf.device(\"/cpu:0\"):\n",
    "    with tf.Graph().as_default():\n",
    "        sess = tf.Session()\n",
    "        print(\"session start\")\n",
    "        with sess.as_default():\n",
    "            siam = siamcnn(alpha=alpha)\n",
    "            print(\"model initialize\")\n",
    "        train_op = tf.train.AdamOptimizer(0.001).minimize(siam.loss)\n",
    "        print(\"operation define\")\n",
    "\n",
    "        #     \n",
    "\n",
    "        checkpoint_dir = \"./ckpt\"\n",
    "        checkpoint_prefix = os.path.join(checkpoint_dir, \"model\")\n",
    "        if not os.path.exists(checkpoint_dir):\n",
    "            os.makedirs(checkpoint_dir)\n",
    "\n",
    "        sess.run(tf.global_variables_initializer())\n",
    "        print(\"variables initialize\")\n",
    "        graph_def = tf.get_default_graph().as_graph_def()\n",
    "        graphpb = str(graph_def)\n",
    "        with open(os.path.join(checkpoint_dir, \"graph.pb\"), 'w') as f:\n",
    "            f.write(graphpb)\n",
    "        def train_step(x_batch, x_p_batch, x_n_batch, iter):\n",
    "            feed_dict = {\n",
    "                siam.input_x: x_batch,\n",
    "                siam.input_p: x_p_batch,\n",
    "                siam.input_n: x_n_batch,\n",
    "                siam.dropout_keep_prob: dropout_keep_prob,\n",
    "                siam.batchsize: batchsize\n",
    "            }\n",
    "            _, loss, dist_p, dist_n = sess.run([train_op, siam.loss, siam.distance_p, siam.distance_n],feed_dict=feed_dict)\n",
    "            print(\"Train step {}, loss {:g}\".format(iter,loss))\n",
    "            print(dist_p[0:10])\n",
    "            print(dist_n[0:10])\n",
    "        n_batchs = (int)(len(batch.pairs) / batchsize)\n",
    "        for i in range(100):\n",
    "            x, x_p, x_n = batch.next_batch(batchsize)\n",
    "            train_step(x, x_p, x_n, i)\n",
    "        saver = tf.train.Saver()\n",
    "        saver.save(sess,checkpoint_prefix)\n",
    "    "
   ]
  },
  {
   "cell_type": "code",
   "execution_count": 71,
   "metadata": {},
   "outputs": [],
   "source": [
    "def test(img_x,img_target):\n",
    "    with tf.device(\"/device:GPU:0\"):\n",
    "        with tf.Graph().as_default():\n",
    "            sess = tf.Session()\n",
    "            print(\"session start\")\n",
    "            checkpoint_dir = \"./ckpt\"\n",
    "            checkpoint_prefix = os.path.join(checkpoint_dir, \"model\")\n",
    "            saver = tf.train.import_meta_graph(checkpoint_prefix + '.meta')\n",
    "            print(\"graph restore\")\n",
    "            saver.restore(sess, checkpoint_prefix)\n",
    "            print(\"parameter restore\")\n",
    "            graph = tf.get_default_graph()\n",
    "\n",
    "            input_x = graph.get_tensor_by_name('input_x:0')\n",
    "            input_target = graph.get_tensor_by_name('input_target:0')\n",
    "            input_batchsize = graph.get_tensor_by_name(\"input_batchsize:0\")\n",
    "            dropout = graph.get_tensor_by_name(\"dropout_keep_prob:0\")\n",
    "            output = graph.get_tensor_by_name(\"target/target_distance:0\")\n",
    "            for img in img_x:\n",
    "                distance = sess.run(output,feed_dict={input_x:[img], input_target:img_target, input_batchsize:1, dropout:1.0})\n",
    "                print(distance)\n",
    "    "
   ]
  },
  {
   "cell_type": "code",
   "execution_count": 86,
   "metadata": {},
   "outputs": [],
   "source": [
    "images_test = [cv2.imread(file) for file in glob.glob(\"./image/3/test/*.png\")]"
   ]
  },
  {
   "cell_type": "code",
   "execution_count": 89,
   "metadata": {},
   "outputs": [
    {
     "ename": "TypeError",
     "evalue": "imread() takes 2 positional arguments but 3 were given",
     "output_type": "error",
     "traceback": [
      "\u001b[1;31m---------------------------------------------------------------------------\u001b[0m",
      "\u001b[1;31mTypeError\u001b[0m                                 Traceback (most recent call last)",
      "\u001b[1;32m<ipython-input-89-86cbec4df4af>\u001b[0m in \u001b[0;36m<module>\u001b[1;34m\u001b[0m\n\u001b[0;32m      1\u001b[0m \u001b[0mpre\u001b[0m \u001b[1;33m=\u001b[0m \u001b[0mpreprocess\u001b[0m\u001b[1;33m(\u001b[0m\u001b[1;33m)\u001b[0m\u001b[1;33m\u001b[0m\u001b[1;33m\u001b[0m\u001b[0m\n\u001b[1;32m----> 2\u001b[1;33m \u001b[0mpre\u001b[0m\u001b[1;33m.\u001b[0m\u001b[0mimread\u001b[0m\u001b[1;33m(\u001b[0m\u001b[1;34m\"./image/3/clean.png\"\u001b[0m\u001b[1;33m,\u001b[0m\u001b[1;36m0\u001b[0m\u001b[1;33m)\u001b[0m\u001b[1;33m\u001b[0m\u001b[1;33m\u001b[0m\u001b[0m\n\u001b[0m\u001b[0;32m      3\u001b[0m \u001b[0mboxes\u001b[0m \u001b[1;33m=\u001b[0m \u001b[0mpre\u001b[0m\u001b[1;33m.\u001b[0m\u001b[0mget_bbs\u001b[0m\u001b[1;33m(\u001b[0m\u001b[1;33m)\u001b[0m\u001b[1;33m\u001b[0m\u001b[1;33m\u001b[0m\u001b[0m\n\u001b[0;32m      4\u001b[0m \u001b[0mimg_x\u001b[0m \u001b[1;33m=\u001b[0m \u001b[0mimages_test\u001b[0m\u001b[1;33m[\u001b[0m\u001b[1;33m:\u001b[0m\u001b[1;33m]\u001b[0m\u001b[1;33m\u001b[0m\u001b[1;33m\u001b[0m\u001b[0m\n\u001b[0;32m      5\u001b[0m \u001b[0mimg_target\u001b[0m \u001b[1;33m=\u001b[0m \u001b[0mimages_test\u001b[0m\u001b[1;33m[\u001b[0m\u001b[1;36m5\u001b[0m\u001b[1;33m]\u001b[0m\u001b[1;33m\u001b[0m\u001b[1;33m\u001b[0m\u001b[0m\n",
      "\u001b[1;31mTypeError\u001b[0m: imread() takes 2 positional arguments but 3 were given"
     ]
    }
   ],
   "source": [
    "pre = preprocess()\n",
    "pre.imread(\"./image/3/clean.png\")\n",
    "boxes = pre.get_bbs()\n",
    "img_x = images_test[:]\n",
    "img_target = images_test[5]\n",
    "for i in range(len(img_x)):\n",
    "    for box in boxes:\n",
    "        x,y,w,h = box\n",
    "        x,y = max(x,0),max(y,0)\n",
    "        img_x[i][y:y+h,x:x+w] = 255\n",
    "    img_x[i] = cv2.resize(img_x[i],(1024,256))\n",
    "for box in boxes:\n",
    "    x,y,w,h = box\n",
    "    x,y = max(x,0),max(y,0)\n",
    "    img_target[y:y+h,x:x+w] = 255\n",
    "img_target = [cv2.resize(img_target,(1024,256))]"
   ]
  },
  {
   "cell_type": "code",
   "execution_count": 74,
   "metadata": {},
   "outputs": [
    {
     "name": "stdout",
     "output_type": "stream",
     "text": [
      "session start\n",
      "graph restore\n",
      "INFO:tensorflow:Restoring parameters from ./ckpt/model\n",
      "parameter restore\n",
      "[1.2129399]\n",
      "[1.2046996]\n",
      "[1.3046865]\n",
      "[1.2192171]\n",
      "[1.1964344]\n",
      "[1.1685598]\n",
      "[1.19277]\n",
      "[1.214331]\n",
      "[1.1838644]\n",
      "[1.2041236]\n",
      "[1.2182201]\n"
     ]
    }
   ],
   "source": [
    "test(img_x,img_target)"
   ]
  },
  {
   "cell_type": "code",
   "execution_count": 88,
   "metadata": {},
   "outputs": [
    {
     "data": {
      "image/png": "[encoded data removed]",
      "text/plain": [
       "<Figure size 720x720 with 1 Axes>"
      ]
     },
     "metadata": {
      "needs_background": "light"
     },
     "output_type": "display_data"
    },
    {
     "data": {
      "image/png": "[encoded data removed]",
      "text/plain": [
       "<Figure size 720x720 with 1 Axes>"
      ]
     },
     "metadata": {
      "needs_background": "light"
     },
     "output_type": "display_data"
    },
    {
     "data": {
      "image/png": "[encoded data removed]",
      "text/plain": [
       "<Figure size 720x720 with 1 Axes>"
      ]
     },
     "metadata": {
      "needs_background": "light"
     },
     "output_type": "display_data"
    },
    {
     "data": {
      "image/png": "[encoded data removed]",
      "text/plain": [
       "<Figure size 720x720 with 1 Axes>"
      ]
     },
     "metadata": {
      "needs_background": "light"
     },
     "output_type": "display_data"
    },
    {
     "data": {
      "image/png": "[encoded data removed]",
      "text/plain": [
       "<Figure size 720x720 with 1 Axes>"
      ]
     },
     "metadata": {
      "needs_background": "light"
     },
     "output_type": "display_data"
    },
    {
     "data": {
      "image/png": "[encoded data removed]",
      "text/plain": [
       "<Figure size 720x720 with 1 Axes>"
      ]
     },
     "metadata": {
      "needs_background": "light"
     },
     "output_type": "display_data"
    },
    {
     "data": {
      "image/png": "[encoded data removed]",
      "text/plain": [
       "<Figure size 720x720 with 1 Axes>"
      ]
     },
     "metadata": {
      "needs_background": "light"
     },
     "output_type": "display_data"
    },
    {
     "data": {
      "image/png": "[encoded data removed]",
      "text/plain": [
       "<Figure size 720x720 with 1 Axes>"
      ]
     },
     "metadata": {
      "needs_background": "light"
     },
     "output_type": "display_data"
    },
    {
     "data": {
      "image/png": "[encoded data removed]",
      "text/plain": [
       "<Figure size 720x720 with 1 Axes>"
      ]
     },
     "metadata": {
      "needs_background": "light"
     },
     "output_type": "display_data"
    },
    {
     "data": {
      "image/png": "[encoded data removed]",
      "text/plain": [
       "<Figure size 720x720 with 1 Axes>"
      ]
     },
     "metadata": {
      "needs_background": "light"
     },
     "output_type": "display_data"
    },
    {
     "data": {
      "image/png": "[encoded data removed]",
      "text/plain": [
       "<Figure size 720x720 with 1 Axes>"
      ]
     },
     "metadata": {
      "needs_background": "light"
     },
     "output_type": "display_data"
    }
   ],
   "source": [
    "for i in images_test:\n",
    "    plt.figure(figsize=(10,10))\n",
    "    plt.imshow(i)"
   ]
  },
  {
   "cell_type": "code",
   "execution_count": 19,
   "metadata": {},
   "outputs": [
    {
     "ename": "ValueError",
     "evalue": "initial_value must have a shape specified: Tensor(\"random_normal_19:0\", shape=(?, 16), dtype=float32)",
     "output_type": "error",
     "traceback": [
      "\u001b[1;31m---------------------------------------------------------------------------\u001b[0m",
      "\u001b[1;31mValueError\u001b[0m                                Traceback (most recent call last)",
      "\u001b[1;32m<ipython-input-19-06e7503e6bed>\u001b[0m in \u001b[0;36m<module>\u001b[1;34m\u001b[0m\n\u001b[0;32m      1\u001b[0m \u001b[0mx\u001b[0m \u001b[1;33m=\u001b[0m \u001b[0mtf\u001b[0m\u001b[1;33m.\u001b[0m\u001b[0mVariable\u001b[0m\u001b[1;33m(\u001b[0m\u001b[0mtf\u001b[0m\u001b[1;33m.\u001b[0m\u001b[0mrandom_normal\u001b[0m\u001b[1;33m(\u001b[0m\u001b[0mshape\u001b[0m\u001b[1;33m=\u001b[0m\u001b[1;33m[\u001b[0m\u001b[1;36m5\u001b[0m\u001b[1;33m,\u001b[0m\u001b[1;36m32\u001b[0m\u001b[1;33m,\u001b[0m\u001b[1;36m32\u001b[0m\u001b[1;33m,\u001b[0m\u001b[1;36m3\u001b[0m\u001b[1;33m]\u001b[0m\u001b[1;33m)\u001b[0m\u001b[1;33m)\u001b[0m\u001b[1;33m\u001b[0m\u001b[1;33m\u001b[0m\u001b[0m\n\u001b[1;32m----> 2\u001b[1;33m \u001b[0mw\u001b[0m \u001b[1;33m=\u001b[0m \u001b[0mtf\u001b[0m\u001b[1;33m.\u001b[0m\u001b[0mVariable\u001b[0m\u001b[1;33m(\u001b[0m\u001b[0mtf\u001b[0m\u001b[1;33m.\u001b[0m\u001b[0mrandom_normal\u001b[0m\u001b[1;33m(\u001b[0m\u001b[0mshape\u001b[0m\u001b[1;33m=\u001b[0m\u001b[1;33m[\u001b[0m\u001b[1;33m-\u001b[0m\u001b[1;36m1\u001b[0m\u001b[1;33m,\u001b[0m\u001b[1;36m16\u001b[0m\u001b[1;33m]\u001b[0m\u001b[1;33m)\u001b[0m\u001b[1;33m)\u001b[0m\u001b[1;33m\u001b[0m\u001b[1;33m\u001b[0m\u001b[0m\n\u001b[0m\u001b[0;32m      3\u001b[0m \u001b[0mout\u001b[0m \u001b[1;33m=\u001b[0m \u001b[0mtf\u001b[0m\u001b[1;33m.\u001b[0m\u001b[0mmatmul\u001b[0m\u001b[1;33m(\u001b[0m\u001b[0mx\u001b[0m\u001b[1;33m,\u001b[0m\u001b[0mw\u001b[0m\u001b[1;33m)\u001b[0m\u001b[1;33m\u001b[0m\u001b[1;33m\u001b[0m\u001b[0m\n\u001b[0;32m      4\u001b[0m \u001b[1;32mwith\u001b[0m \u001b[0mtf\u001b[0m\u001b[1;33m.\u001b[0m\u001b[0mSession\u001b[0m\u001b[1;33m(\u001b[0m\u001b[1;33m)\u001b[0m \u001b[1;32mas\u001b[0m \u001b[0msess\u001b[0m\u001b[1;33m:\u001b[0m\u001b[1;33m\u001b[0m\u001b[1;33m\u001b[0m\u001b[0m\n\u001b[0;32m      5\u001b[0m     \u001b[0mtf\u001b[0m\u001b[1;33m.\u001b[0m\u001b[0mglobal_variables_initializer\u001b[0m\u001b[1;33m(\u001b[0m\u001b[1;33m)\u001b[0m\u001b[1;33m.\u001b[0m\u001b[0mrun\u001b[0m\u001b[1;33m(\u001b[0m\u001b[1;33m)\u001b[0m\u001b[1;33m\u001b[0m\u001b[1;33m\u001b[0m\u001b[0m\n",
      "\u001b[1;32m~\\AppData\\Local\\Programs\\Python\\Python36-32\\Lib\\conda\\lib\\site-packages\\tensorflow\\python\\ops\\variables.py\u001b[0m in \u001b[0;36m__call__\u001b[1;34m(cls, *args, **kwargs)\u001b[0m\n\u001b[0;32m    181\u001b[0m   \u001b[1;32mdef\u001b[0m \u001b[0m__call__\u001b[0m\u001b[1;33m(\u001b[0m\u001b[0mcls\u001b[0m\u001b[1;33m,\u001b[0m \u001b[1;33m*\u001b[0m\u001b[0margs\u001b[0m\u001b[1;33m,\u001b[0m \u001b[1;33m**\u001b[0m\u001b[0mkwargs\u001b[0m\u001b[1;33m)\u001b[0m\u001b[1;33m:\u001b[0m\u001b[1;33m\u001b[0m\u001b[1;33m\u001b[0m\u001b[0m\n\u001b[0;32m    182\u001b[0m     \u001b[1;32mif\u001b[0m \u001b[0mcls\u001b[0m \u001b[1;32mis\u001b[0m \u001b[0mVariableV1\u001b[0m\u001b[1;33m:\u001b[0m\u001b[1;33m\u001b[0m\u001b[1;33m\u001b[0m\u001b[0m\n\u001b[1;32m--> 183\u001b[1;33m       \u001b[1;32mreturn\u001b[0m \u001b[0mcls\u001b[0m\u001b[1;33m.\u001b[0m\u001b[0m_variable_v1_call\u001b[0m\u001b[1;33m(\u001b[0m\u001b[1;33m*\u001b[0m\u001b[0margs\u001b[0m\u001b[1;33m,\u001b[0m \u001b[1;33m**\u001b[0m\u001b[0mkwargs\u001b[0m\u001b[1;33m)\u001b[0m\u001b[1;33m\u001b[0m\u001b[1;33m\u001b[0m\u001b[0m\n\u001b[0m\u001b[0;32m    184\u001b[0m     \u001b[1;32melif\u001b[0m \u001b[0mcls\u001b[0m \u001b[1;32mis\u001b[0m \u001b[0mVariable\u001b[0m\u001b[1;33m:\u001b[0m\u001b[1;33m\u001b[0m\u001b[1;33m\u001b[0m\u001b[0m\n\u001b[0;32m    185\u001b[0m       \u001b[1;32mreturn\u001b[0m \u001b[0mcls\u001b[0m\u001b[1;33m.\u001b[0m\u001b[0m_variable_v2_call\u001b[0m\u001b[1;33m(\u001b[0m\u001b[1;33m*\u001b[0m\u001b[0margs\u001b[0m\u001b[1;33m,\u001b[0m \u001b[1;33m**\u001b[0m\u001b[0mkwargs\u001b[0m\u001b[1;33m)\u001b[0m\u001b[1;33m\u001b[0m\u001b[1;33m\u001b[0m\u001b[0m\n",
      "\u001b[1;32m~\\AppData\\Local\\Programs\\Python\\Python36-32\\Lib\\conda\\lib\\site-packages\\tensorflow\\python\\ops\\variables.py\u001b[0m in \u001b[0;36m_variable_v1_call\u001b[1;34m(cls, initial_value, trainable, collections, validate_shape, caching_device, name, variable_def, dtype, expected_shape, import_scope, constraint, use_resource, synchronization, aggregation)\u001b[0m\n\u001b[0;32m    144\u001b[0m         \u001b[0muse_resource\u001b[0m\u001b[1;33m=\u001b[0m\u001b[0muse_resource\u001b[0m\u001b[1;33m,\u001b[0m\u001b[1;33m\u001b[0m\u001b[1;33m\u001b[0m\u001b[0m\n\u001b[0;32m    145\u001b[0m         \u001b[0msynchronization\u001b[0m\u001b[1;33m=\u001b[0m\u001b[0msynchronization\u001b[0m\u001b[1;33m,\u001b[0m\u001b[1;33m\u001b[0m\u001b[1;33m\u001b[0m\u001b[0m\n\u001b[1;32m--> 146\u001b[1;33m         aggregation=aggregation)\n\u001b[0m\u001b[0;32m    147\u001b[0m \u001b[1;33m\u001b[0m\u001b[0m\n\u001b[0;32m    148\u001b[0m   def _variable_v2_call(cls,\n",
      "\u001b[1;32m~\\AppData\\Local\\Programs\\Python\\Python36-32\\Lib\\conda\\lib\\site-packages\\tensorflow\\python\\ops\\variables.py\u001b[0m in \u001b[0;36m<lambda>\u001b[1;34m(**kwargs)\u001b[0m\n\u001b[0;32m    123\u001b[0m                         aggregation=VariableAggregation.NONE):\n\u001b[0;32m    124\u001b[0m     \u001b[1;34m\"\"\"Call on Variable class. Useful to force the signature.\"\"\"\u001b[0m\u001b[1;33m\u001b[0m\u001b[1;33m\u001b[0m\u001b[0m\n\u001b[1;32m--> 125\u001b[1;33m     \u001b[0mprevious_getter\u001b[0m \u001b[1;33m=\u001b[0m \u001b[1;32mlambda\u001b[0m \u001b[1;33m**\u001b[0m\u001b[0mkwargs\u001b[0m\u001b[1;33m:\u001b[0m \u001b[0mdefault_variable_creator\u001b[0m\u001b[1;33m(\u001b[0m\u001b[1;32mNone\u001b[0m\u001b[1;33m,\u001b[0m \u001b[1;33m**\u001b[0m\u001b[0mkwargs\u001b[0m\u001b[1;33m)\u001b[0m\u001b[1;33m\u001b[0m\u001b[1;33m\u001b[0m\u001b[0m\n\u001b[0m\u001b[0;32m    126\u001b[0m     \u001b[1;32mfor\u001b[0m \u001b[0mgetter\u001b[0m \u001b[1;32min\u001b[0m \u001b[0mops\u001b[0m\u001b[1;33m.\u001b[0m\u001b[0mget_default_graph\u001b[0m\u001b[1;33m(\u001b[0m\u001b[1;33m)\u001b[0m\u001b[1;33m.\u001b[0m\u001b[0m_variable_creator_stack\u001b[0m\u001b[1;33m:\u001b[0m  \u001b[1;31m# pylint: disable=protected-access\u001b[0m\u001b[1;33m\u001b[0m\u001b[1;33m\u001b[0m\u001b[0m\n\u001b[0;32m    127\u001b[0m       \u001b[0mprevious_getter\u001b[0m \u001b[1;33m=\u001b[0m \u001b[0m_make_getter\u001b[0m\u001b[1;33m(\u001b[0m\u001b[0mgetter\u001b[0m\u001b[1;33m,\u001b[0m \u001b[0mprevious_getter\u001b[0m\u001b[1;33m)\u001b[0m\u001b[1;33m\u001b[0m\u001b[1;33m\u001b[0m\u001b[0m\n",
      "\u001b[1;32m~\\AppData\\Local\\Programs\\Python\\Python36-32\\Lib\\conda\\lib\\site-packages\\tensorflow\\python\\ops\\variable_scope.py\u001b[0m in \u001b[0;36mdefault_variable_creator\u001b[1;34m(next_creator, **kwargs)\u001b[0m\n\u001b[0;32m   2442\u001b[0m         \u001b[0mcaching_device\u001b[0m\u001b[1;33m=\u001b[0m\u001b[0mcaching_device\u001b[0m\u001b[1;33m,\u001b[0m \u001b[0mname\u001b[0m\u001b[1;33m=\u001b[0m\u001b[0mname\u001b[0m\u001b[1;33m,\u001b[0m \u001b[0mdtype\u001b[0m\u001b[1;33m=\u001b[0m\u001b[0mdtype\u001b[0m\u001b[1;33m,\u001b[0m\u001b[1;33m\u001b[0m\u001b[1;33m\u001b[0m\u001b[0m\n\u001b[0;32m   2443\u001b[0m         \u001b[0mconstraint\u001b[0m\u001b[1;33m=\u001b[0m\u001b[0mconstraint\u001b[0m\u001b[1;33m,\u001b[0m \u001b[0mvariable_def\u001b[0m\u001b[1;33m=\u001b[0m\u001b[0mvariable_def\u001b[0m\u001b[1;33m,\u001b[0m\u001b[1;33m\u001b[0m\u001b[1;33m\u001b[0m\u001b[0m\n\u001b[1;32m-> 2444\u001b[1;33m         expected_shape=expected_shape, import_scope=import_scope)\n\u001b[0m\u001b[0;32m   2445\u001b[0m \u001b[1;33m\u001b[0m\u001b[0m\n\u001b[0;32m   2446\u001b[0m \u001b[1;33m\u001b[0m\u001b[0m\n",
      "\u001b[1;32m~\\AppData\\Local\\Programs\\Python\\Python36-32\\Lib\\conda\\lib\\site-packages\\tensorflow\\python\\ops\\variables.py\u001b[0m in \u001b[0;36m__call__\u001b[1;34m(cls, *args, **kwargs)\u001b[0m\n\u001b[0;32m    185\u001b[0m       \u001b[1;32mreturn\u001b[0m \u001b[0mcls\u001b[0m\u001b[1;33m.\u001b[0m\u001b[0m_variable_v2_call\u001b[0m\u001b[1;33m(\u001b[0m\u001b[1;33m*\u001b[0m\u001b[0margs\u001b[0m\u001b[1;33m,\u001b[0m \u001b[1;33m**\u001b[0m\u001b[0mkwargs\u001b[0m\u001b[1;33m)\u001b[0m\u001b[1;33m\u001b[0m\u001b[1;33m\u001b[0m\u001b[0m\n\u001b[0;32m    186\u001b[0m     \u001b[1;32melse\u001b[0m\u001b[1;33m:\u001b[0m\u001b[1;33m\u001b[0m\u001b[1;33m\u001b[0m\u001b[0m\n\u001b[1;32m--> 187\u001b[1;33m       \u001b[1;32mreturn\u001b[0m \u001b[0msuper\u001b[0m\u001b[1;33m(\u001b[0m\u001b[0mVariableMetaclass\u001b[0m\u001b[1;33m,\u001b[0m \u001b[0mcls\u001b[0m\u001b[1;33m)\u001b[0m\u001b[1;33m.\u001b[0m\u001b[0m__call__\u001b[0m\u001b[1;33m(\u001b[0m\u001b[1;33m*\u001b[0m\u001b[0margs\u001b[0m\u001b[1;33m,\u001b[0m \u001b[1;33m**\u001b[0m\u001b[0mkwargs\u001b[0m\u001b[1;33m)\u001b[0m\u001b[1;33m\u001b[0m\u001b[1;33m\u001b[0m\u001b[0m\n\u001b[0m\u001b[0;32m    188\u001b[0m \u001b[1;33m\u001b[0m\u001b[0m\n\u001b[0;32m    189\u001b[0m \u001b[1;33m\u001b[0m\u001b[0m\n",
      "\u001b[1;32m~\\AppData\\Local\\Programs\\Python\\Python36-32\\Lib\\conda\\lib\\site-packages\\tensorflow\\python\\ops\\variables.py\u001b[0m in \u001b[0;36m__init__\u001b[1;34m(self, initial_value, trainable, collections, validate_shape, caching_device, name, variable_def, dtype, expected_shape, import_scope, constraint)\u001b[0m\n\u001b[0;32m   1327\u001b[0m           \u001b[0mdtype\u001b[0m\u001b[1;33m=\u001b[0m\u001b[0mdtype\u001b[0m\u001b[1;33m,\u001b[0m\u001b[1;33m\u001b[0m\u001b[1;33m\u001b[0m\u001b[0m\n\u001b[0;32m   1328\u001b[0m           \u001b[0mexpected_shape\u001b[0m\u001b[1;33m=\u001b[0m\u001b[0mexpected_shape\u001b[0m\u001b[1;33m,\u001b[0m\u001b[1;33m\u001b[0m\u001b[1;33m\u001b[0m\u001b[0m\n\u001b[1;32m-> 1329\u001b[1;33m           constraint=constraint)\n\u001b[0m\u001b[0;32m   1330\u001b[0m \u001b[1;33m\u001b[0m\u001b[0m\n\u001b[0;32m   1331\u001b[0m   \u001b[1;32mdef\u001b[0m \u001b[0m__repr__\u001b[0m\u001b[1;33m(\u001b[0m\u001b[0mself\u001b[0m\u001b[1;33m)\u001b[0m\u001b[1;33m:\u001b[0m\u001b[1;33m\u001b[0m\u001b[1;33m\u001b[0m\u001b[0m\n",
      "\u001b[1;32m~\\AppData\\Local\\Programs\\Python\\Python36-32\\Lib\\conda\\lib\\site-packages\\tensorflow\\python\\ops\\variables.py\u001b[0m in \u001b[0;36m_init_from_args\u001b[1;34m(self, initial_value, trainable, collections, validate_shape, caching_device, name, dtype, expected_shape, constraint)\u001b[0m\n\u001b[0;32m   1470\u001b[0m           \u001b[1;32mif\u001b[0m \u001b[1;32mnot\u001b[0m \u001b[0minitial_value_shape\u001b[0m\u001b[1;33m.\u001b[0m\u001b[0mis_fully_defined\u001b[0m\u001b[1;33m(\u001b[0m\u001b[1;33m)\u001b[0m\u001b[1;33m:\u001b[0m\u001b[1;33m\u001b[0m\u001b[1;33m\u001b[0m\u001b[0m\n\u001b[0;32m   1471\u001b[0m             raise ValueError(\"initial_value must have a shape specified: %s\" %\n\u001b[1;32m-> 1472\u001b[1;33m                              self._initial_value)\n\u001b[0m\u001b[0;32m   1473\u001b[0m \u001b[1;33m\u001b[0m\u001b[0m\n\u001b[0;32m   1474\u001b[0m         \u001b[1;31m# If 'initial_value' makes use of other variables, make sure we don't\u001b[0m\u001b[1;33m\u001b[0m\u001b[1;33m\u001b[0m\u001b[1;33m\u001b[0m\u001b[0m\n",
      "\u001b[1;31mValueError\u001b[0m: initial_value must have a shape specified: Tensor(\"random_normal_19:0\", shape=(?, 16), dtype=float32)"
     ]
    }
   ],
   "source": [
    "x = tf.Variable(tf.random_normal(shape=[5,32,32,3]))\n",
    "w = tf.Variable(tf.random_normal(shape=[-1,16]))\n",
    "out = tf.matmul(x,w)\n",
    "with tf.Session() as sess:\n",
    "    tf.global_variables_initializer().run()\n",
    "    print(out.shape)"
   ]
  },
  {
   "cell_type": "code",
   "execution_count": null,
   "metadata": {},
   "outputs": [],
   "source": []
  }
 ],
 "metadata": {
  "kernelspec": {
   "display_name": "Python 3",
   "language": "python",
   "name": "python3"
  },
  "language_info": {
   "codemirror_mode": {
    "name": "ipython",
    "version": 3
   },
   "file_extension": ".py",
   "mimetype": "text/x-python",
   "name": "python",
   "nbconvert_exporter": "python",
   "pygments_lexer": "ipython3",
   "version": "3.6.7"
  }
 },
 "nbformat": 4,
 "nbformat_minor": 2
}
