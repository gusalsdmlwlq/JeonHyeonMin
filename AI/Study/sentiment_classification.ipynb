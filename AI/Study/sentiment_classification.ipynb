{
 "cells": [
  {
   "cell_type": "code",
   "execution_count": 1,
   "metadata": {},
   "outputs": [
    {
     "name": "stderr",
     "output_type": "stream",
     "text": [
      "/home/jhm9507/miniconda3/envs/jhm/lib/python3.6/site-packages/jpype/_core.py:210: UserWarning: \n",
      "-------------------------------------------------------------------------------\n",
      "Deprecated: convertStrings was not specified when starting the JVM. The default\n",
      "behavior in JPype will be False starting in JPype 0.8. The recommended setting\n",
      "for new code is convertStrings=False.  The legacy value of True was assumed for\n",
      "this session. If you are a user of an application that reported this warning,\n",
      "please file a ticket with the developer.\n",
      "-------------------------------------------------------------------------------\n",
      "\n",
      "  \"\"\")\n"
     ]
    }
   ],
   "source": [
    "import time\n",
    "from gensim.models import Word2Vec\n",
    "import tensorflow as tf\n",
    "import numpy as np\n",
    "from konlpy.tag import Okt\n",
    "import sys\n",
    "import os\n",
    "np.random.seed(1)\n",
    "tf.set_random_seed(1)\n",
    "os.environ[\"CUDA_VISIBLE_DEVICES\"]=\"3\"\n",
    "okt = Okt()"
   ]
  },
  {
   "cell_type": "code",
   "execution_count": 2,
   "metadata": {},
   "outputs": [],
   "source": [
    "f = open(\"./data/ratings_train.txt\",encoding=\"UTF-8\")\n",
    "train_data = [line.split(\"\\t\")[1:] for line in f.read().splitlines()]\n",
    "train_data = train_data[1:]\n",
    "f = open(\"./data/ratings_test.txt\",encoding=\"UTF-8\")\n",
    "test_data = [line.split(\"\\t\")[1:] for line in f.read().splitlines()]\n",
    "test_data = test_data[1:]"
   ]
  },
  {
   "cell_type": "code",
   "execution_count": 3,
   "metadata": {},
   "outputs": [
    {
     "name": "stdout",
     "output_type": "stream",
     "text": [
      "150000\n",
      "['아 더빙.. 진짜 짜증나네요 목소리', '0']\n",
      "50000\n",
      "['굳 ㅋ', '1']\n"
     ]
    }
   ],
   "source": [
    "print(len(train_data))\n",
    "print(train_data[0])\n",
    "print(len(test_data))\n",
    "print(test_data[0])"
   ]
  },
  {
   "cell_type": "code",
   "execution_count": 4,
   "metadata": {},
   "outputs": [
    {
     "name": "stdout",
     "output_type": "stream",
     "text": [
      "149995\n",
      "49997\n"
     ]
    }
   ],
   "source": [
    "for idx, data in enumerate(train_data):\n",
    "    if data[0] == \"\":\n",
    "        del train_data[idx]\n",
    "for idx, data in enumerate(test_data):\n",
    "    if data[0] == \"\":\n",
    "        del test_data[idx]\n",
    "print(len(train_data))\n",
    "print(len(test_data))"
   ]
  },
  {
   "cell_type": "code",
   "execution_count": 5,
   "metadata": {},
   "outputs": [],
   "source": [
    "# train_tokens = [[\"/\".join(tag) for tag in okt.pos(sentence[0], norm=True, stem=True)] for sentence in train_data]\n",
    "# test_tokens = [[\"/\".join(tag) for tag in okt.pos(sentence[0], norm=True, stem=True)] for sentence in test_data]"
   ]
  },
  {
   "cell_type": "code",
   "execution_count": 6,
   "metadata": {},
   "outputs": [],
   "source": [
    "# word2vec = Word2Vec(size=300, alpha=0.025, seed=1, sg=1, min_alpha=0.025)\n",
    "# word2vec.build_vocab(tokens)\n",
    "# for epoch in range(30):\n",
    "#     word2vec.train(train_tokens, total_examples=word2vec.corpus_count, epochs=word2vec.iter)\n",
    "#     word2vec.alpha -= 0.002\n",
    "#     word2vec.min_alpha = word2vec.alpha\n",
    "#     print(\"epochs: {}/30\".format(epoch+1))\n",
    "# word2vec.save(\"./model/word2vec.model\")"
   ]
  },
  {
   "cell_type": "code",
   "execution_count": 7,
   "metadata": {},
   "outputs": [
    {
     "name": "stderr",
     "output_type": "stream",
     "text": [
      "/home/jhm9507/miniconda3/envs/jhm/lib/python3.6/site-packages/smart_open/smart_open_lib.py:398: UserWarning: This function is deprecated, use smart_open.open instead. See the migration notes for details: https://github.com/RaRe-Technologies/smart_open/blob/master/README.rst#migrating-to-the-new-open-function\n",
      "  'See the migration notes for details: %s' % _MIGRATION_NOTES_URL\n"
     ]
    }
   ],
   "source": [
    "word2vec = Word2Vec.load(\"./model/word2vec.model\")"
   ]
  },
  {
   "cell_type": "code",
   "execution_count": 8,
   "metadata": {},
   "outputs": [],
   "source": [
    "def embedding(word):\n",
    "    if word in word2vec.wv.vocab:\n",
    "        return word2vec.wv[word]\n",
    "    else:\n",
    "        return np.random.normal(size=(300))"
   ]
  },
  {
   "cell_type": "code",
   "execution_count": 9,
   "metadata": {},
   "outputs": [],
   "source": [
    "# train_X = [[embedding(word) for word in sentence] for sentence in train_tokens]\n",
    "# train_y = [[int(data[1])] for data in train_data]\n",
    "# test_X = [[embedding(word) for word in sentence] for sentence in test_tokens]\n",
    "# test_y = [[int(data[1])] for data in test_data]\n",
    "# print(len(train_X))\n",
    "# print(len(train_y))\n",
    "# print(len(test_X))\n",
    "# print(len(test_y))\n",
    "# np.save(\"./data/train_X.npy\",train_X)\n",
    "# np.save(\"./data/train_y.npy\",train_y)\n",
    "# np.save(\"./data/test_X.npy\",test_X)\n",
    "# np.save(\"./data/test_y.npy\",test_y)"
   ]
  },
  {
   "cell_type": "code",
   "execution_count": 10,
   "metadata": {},
   "outputs": [
    {
     "name": "stdout",
     "output_type": "stream",
     "text": [
      "149995\n",
      "149995\n",
      "49997\n",
      "49997\n"
     ]
    }
   ],
   "source": [
    "train_X = np.load(\"./data/train_X.npy\")\n",
    "train_y = np.load(\"./data/train_y.npy\")\n",
    "test_X = np.load(\"./data/test_X.npy\")\n",
    "test_y = np.load(\"./data/test_y.npy\")\n",
    "print(len(train_X))\n",
    "print(len(train_y))\n",
    "print(len(test_X))\n",
    "print(len(test_y))"
   ]
  },
  {
   "cell_type": "code",
   "execution_count": 11,
   "metadata": {},
   "outputs": [],
   "source": [
    "train_seq_length = [len(x) for x in train_X]\n",
    "test_seq_length = [len(x) for x in test_X]"
   ]
  },
  {
   "cell_type": "code",
   "execution_count": 12,
   "metadata": {},
   "outputs": [],
   "source": [
    "class BiLSTM:\n",
    "    def __init__(self, input_size, layers, hidden_units, max_length, learning_rate, dropout_keep_prob):\n",
    "        with tf.variable_scope(\"BiLSTM\", reuse=tf.AUTO_REUSE):\n",
    "            self.input_X = tf.placeholder(dtype=tf.float32, shape=[None, max_length, input_size], name=\"input_X\")\n",
    "            self.input_y = tf.placeholder(dtype=tf.float32, shape=[None,1], name=\"input_y\")\n",
    "            self.dropout_keep_prob = tf.placeholder(dtype=tf.float32, shape=(), name=\"dropout_keep_prob\")\n",
    "            self.seq_len = tf.placeholder(dtype=tf.int32, shape=[None], name=\"seq_len\")\n",
    "            \n",
    "            self.output = self.bilstm(self.input_X, layers, hidden_units, dropout_keep_prob)\n",
    "            \n",
    "            self.loss = -tf.reduce_mean(self.input_y*tf.log(self.output) + (1-self.input_y)*tf.log(1-self.output))\n",
    "            self.train = tf.train.AdamOptimizer(learning_rate).minimize(self.loss)\n",
    "            self.pred = tf.equal(self.input_y, tf.cast(tf.to_int32(self.output >= 0.5),tf.float32))\n",
    "            self.acc = tf.multiply(tf.reduce_mean(tf.cast(self.pred, tf.float32)), 100, name=\"acc\")\n",
    "            \n",
    "            tf.summary.scalar(name=\"Loss\", tensor=self.loss)\n",
    "            tf.summary.scalar(name=\"Accuracy\", tensor=self.acc)\n",
    "            self.merge_graph = tf.summary.merge_all()\n",
    "    \n",
    "    def bilstm(self, X, layers, hidden_units, dropout_keep_prob):\n",
    "        \n",
    "        fw_cell_stack = []\n",
    "        for i in range(layers):\n",
    "            fw_cell =  tf.nn.rnn_cell.LSTMCell(hidden_units, forget_bias=1.0, state_is_tuple=True)\n",
    "            fw_cell = tf.nn.rnn_cell.DropoutWrapper(fw_cell, output_keep_prob=dropout_keep_prob)\n",
    "            fw_cell_stack.append(fw_cell)\n",
    "        fw_lstm_cell = tf.nn.rnn_cell.MultiRNNCell(fw_cell_stack)\n",
    "        \n",
    "        bw_cell_stack = []\n",
    "        for i in range(layers):\n",
    "            bw_cell =  tf.nn.rnn_cell.LSTMCell(hidden_units,forget_bias=1.0, state_is_tuple=True)\n",
    "            bw_cell = tf.nn.rnn_cell.DropoutWrapper(bw_cell, output_keep_prob=dropout_keep_prob)\n",
    "            bw_cell_stack.append(bw_cell)\n",
    "        bw_lstm_cell = tf.nn.rnn_cell.MultiRNNCell(bw_cell_stack)\n",
    "        \n",
    "#         fw_lstm_cell =  tf.nn.rnn_cell.LSTMCell(hidden_units)\n",
    "#         fw_lstm_cell = tf.nn.rnn_cell.DropoutWrapper(fw_lstm_cell, output_keep_prob=dropout_keep_prob)\n",
    "#         bw_lstm_cell =  tf.nn.rnn_cell.LSTMCell(hidden_units)\n",
    "#         bw_lstm_cell = tf.nn.rnn_cell.DropoutWrapper(bw_lstm_cell, output_keep_prob=dropout_keep_prob)\n",
    "        \n",
    "        outputs,states = tf.nn.bidirectional_dynamic_rnn(cell_fw=fw_lstm_cell, cell_bw=bw_lstm_cell, inputs=X, dtype=tf.float32, sequence_length=self.seq_len)\n",
    "        fw_output = outputs[0][:,-1]\n",
    "        bw_output = outputs[1][:,0]\n",
    "        \n",
    "        W = tf.get_variable(\"W_output\",shape=[2*hidden_units,1], initializer=tf.contrib.layers.xavier_initializer(), dtype=tf.float32)\n",
    "        b = tf.get_variable(\"b_output\",shape=(), initializer=tf.zeros_initializer(), dtype=tf.float32)\n",
    "#         output = tf.concat([states[0][1], states[1][1]], axis=1)\n",
    "        output = tf.concat([fw_output, bw_output], axis=1)\n",
    "        output = tf.nn.sigmoid(tf.matmul(output,W) + b, name=\"output\")\n",
    "        return output"
   ]
  },
  {
   "cell_type": "code",
   "execution_count": 13,
   "metadata": {},
   "outputs": [],
   "source": [
    "input_size = 300\n",
    "layers = 1\n",
    "hidden_units = 128\n",
    "batch_size = 32\n",
    "dropout_keep_prob = 0.5\n",
    "max_length = 100\n",
    "learning_rate = 0.001\n",
    "epochs = 3\n",
    "n_class = 2"
   ]
  },
  {
   "cell_type": "code",
   "execution_count": 16,
   "metadata": {},
   "outputs": [
    {
     "name": "stdout",
     "output_type": "stream",
     "text": [
      "Session started\n",
      "Model was initialized\n",
      "epochs: 1/3, iters: 0, loss: 0.7241056561470032, acc: 46.875\n",
      "epochs: 1/3, iters: 100, loss: 0.501392662525177, acc: 81.25\n",
      "epochs: 1/3, iters: 200, loss: 0.6684079766273499, acc: 62.5\n",
      "epochs: 1/3, iters: 300, loss: 0.5751429200172424, acc: 62.5\n",
      "epochs: 1/3, iters: 400, loss: 0.5095279216766357, acc: 68.75\n",
      "epochs: 1/3, iters: 500, loss: 0.5160624980926514, acc: 78.125\n",
      "epochs: 1/3, iters: 600, loss: 0.32921114563941956, acc: 84.375\n",
      "epochs: 1/3, iters: 700, loss: 0.3517100512981415, acc: 87.5\n",
      "epochs: 1/3, iters: 800, loss: 0.49366921186447144, acc: 68.75\n",
      "epochs: 1/3, iters: 900, loss: 0.40460699796676636, acc: 81.25\n",
      "epochs: 1/3, iters: 1000, loss: 0.4962013363838196, acc: 68.75\n",
      "epochs: 1/3, iters: 1100, loss: 0.3416743576526642, acc: 87.5\n",
      "epochs: 1/3, iters: 1200, loss: 0.5161064863204956, acc: 71.875\n",
      "epochs: 1/3, iters: 1300, loss: 0.32061558961868286, acc: 84.375\n",
      "epochs: 1/3, iters: 1400, loss: 0.39668983221054077, acc: 84.375\n",
      "epochs: 1/3, iters: 1500, loss: 0.40522754192352295, acc: 84.375\n",
      "epochs: 1/3, iters: 1600, loss: 0.5542802214622498, acc: 71.875\n",
      "epochs: 1/3, iters: 1700, loss: 0.40741223096847534, acc: 90.625\n",
      "epochs: 1/3, iters: 1800, loss: 0.5077505707740784, acc: 78.125\n",
      "epochs: 1/3, iters: 1900, loss: 0.5683872699737549, acc: 75.0\n",
      "epochs: 1/3, iters: 2000, loss: 0.3367985486984253, acc: 93.75\n",
      "epochs: 1/3, iters: 2100, loss: 0.31791383028030396, acc: 84.375\n",
      "epochs: 1/3, iters: 2200, loss: 0.4233713150024414, acc: 75.0\n",
      "epochs: 1/3, iters: 2300, loss: 0.23497363924980164, acc: 93.75\n",
      "epochs: 1/3, iters: 2400, loss: 0.3262942433357239, acc: 84.375\n",
      "epochs: 1/3, iters: 2500, loss: 0.22670648992061615, acc: 90.625\n",
      "epochs: 1/3, iters: 2600, loss: 0.32836607098579407, acc: 90.625\n",
      "epochs: 1/3, iters: 2700, loss: 0.4268436133861542, acc: 78.125\n",
      "epochs: 1/3, iters: 2800, loss: 0.4785460829734802, acc: 81.25\n",
      "epochs: 1/3, iters: 2900, loss: 0.37633219361305237, acc: 87.5\n",
      "epochs: 1/3, iters: 3000, loss: 0.35263118147850037, acc: 84.375\n",
      "epochs: 1/3, iters: 3100, loss: 0.28904634714126587, acc: 90.625\n",
      "epochs: 1/3, iters: 3200, loss: 0.4149521589279175, acc: 78.125\n",
      "epochs: 1/3, iters: 3300, loss: 0.44513535499572754, acc: 81.25\n",
      "epochs: 1/3, iters: 3400, loss: 0.36477264761924744, acc: 81.25\n",
      "epochs: 1/3, iters: 3500, loss: 0.6033737063407898, acc: 75.0\n",
      "epochs: 1/3, iters: 3600, loss: 0.32437610626220703, acc: 90.625\n",
      "epochs: 1/3, iters: 3700, loss: 0.3361862003803253, acc: 84.375\n",
      "epochs: 1/3, iters: 3800, loss: 0.5511513948440552, acc: 71.875\n",
      "epochs: 1/3, iters: 3900, loss: 0.378281831741333, acc: 84.375\n",
      "epochs: 1/3, iters: 4000, loss: 0.4781672954559326, acc: 81.25\n",
      "epochs: 1/3, iters: 4100, loss: 0.37563765048980713, acc: 75.0\n",
      "epochs: 1/3, iters: 4200, loss: 0.2977975606918335, acc: 90.625\n",
      "epochs: 1/3, iters: 4300, loss: 0.3631421625614166, acc: 84.375\n",
      "epochs: 1/3, iters: 4400, loss: 0.45244941115379333, acc: 81.25\n",
      "epochs: 1/3, iters: 4500, loss: 0.43443405628204346, acc: 84.375\n",
      "epochs: 1/3, iters: 4600, loss: 0.2628024220466614, acc: 93.75\n",
      "epochs: 2/3, iters: 0, loss: 0.43461090326309204, acc: 68.75\n",
      "epochs: 2/3, iters: 100, loss: 0.32441622018814087, acc: 84.375\n",
      "epochs: 2/3, iters: 200, loss: 0.37527045607566833, acc: 78.125\n",
      "epochs: 2/3, iters: 300, loss: 0.42257463932037354, acc: 87.5\n",
      "epochs: 2/3, iters: 400, loss: 0.3587998151779175, acc: 81.25\n",
      "epochs: 2/3, iters: 500, loss: 0.40387341380119324, acc: 87.5\n",
      "epochs: 2/3, iters: 600, loss: 0.24196508526802063, acc: 90.625\n",
      "epochs: 2/3, iters: 700, loss: 0.2909088432788849, acc: 87.5\n",
      "epochs: 2/3, iters: 800, loss: 0.539861798286438, acc: 75.0\n",
      "epochs: 2/3, iters: 900, loss: 0.34176743030548096, acc: 90.625\n",
      "epochs: 2/3, iters: 1000, loss: 0.4285000264644623, acc: 84.375\n",
      "epochs: 2/3, iters: 1100, loss: 0.246616929769516, acc: 87.5\n",
      "epochs: 2/3, iters: 1200, loss: 0.4392831325531006, acc: 75.0\n",
      "epochs: 2/3, iters: 1300, loss: 0.29003822803497314, acc: 81.25\n",
      "epochs: 2/3, iters: 1400, loss: 0.3566511869430542, acc: 81.25\n",
      "epochs: 2/3, iters: 1500, loss: 0.38086509704589844, acc: 81.25\n",
      "epochs: 2/3, iters: 1600, loss: 0.605212390422821, acc: 75.0\n",
      "epochs: 2/3, iters: 1700, loss: 0.3568892478942871, acc: 87.5\n",
      "epochs: 2/3, iters: 1800, loss: 0.4231078624725342, acc: 81.25\n",
      "epochs: 2/3, iters: 1900, loss: 0.49107590317726135, acc: 81.25\n",
      "epochs: 2/3, iters: 2000, loss: 0.37584084272384644, acc: 87.5\n",
      "epochs: 2/3, iters: 2100, loss: 0.22144588828086853, acc: 90.625\n",
      "epochs: 2/3, iters: 3100, loss: 0.27611082792282104, acc: 90.625\n",
      "epochs: 2/3, iters: 3200, loss: 0.37689024209976196, acc: 78.125\n",
      "epochs: 2/3, iters: 3300, loss: 0.3031572699546814, acc: 87.5\n",
      "epochs: 2/3, iters: 3400, loss: 0.30439233779907227, acc: 84.375\n",
      "epochs: 2/3, iters: 3500, loss: 0.4838765263557434, acc: 81.25\n",
      "epochs: 2/3, iters: 3600, loss: 0.31321609020233154, acc: 90.625\n",
      "Model was saved\n"
     ]
    },
    {
     "ename": "SystemExit",
     "evalue": "1",
     "output_type": "error",
     "traceback": [
      "An exception has occurred, use %tb to see the full traceback.\n",
      "\u001b[0;31mSystemExit\u001b[0m\u001b[0;31m:\u001b[0m 1\n"
     ]
    }
   ],
   "source": [
    "with tf.Graph().as_default():\n",
    "    start = time.time()\n",
    "    \n",
    "    sess = tf.Session()\n",
    "    print(\"Session started\")\n",
    "    model = BiLSTM(input_size, layers, hidden_units, max_length, learning_rate, dropout_keep_prob)\n",
    "    print(\"Model was initialized\")\n",
    "    save_path = \"./model/BiLSTM\"\n",
    "    n_batchs = (int)(len(train_X) / batch_size)\n",
    "    saver = tf.train.Saver()\n",
    "    writer = tf.summary.FileWriter(\"./log\", sess.graph)\n",
    "    merge_graph = model.merge_graph\n",
    "    global_steps = 0\n",
    "    sess.run(tf.global_variables_initializer())\n",
    "    \n",
    "    def train_step(batch_X, batch_y, seq_lenght, steps, epoch):\n",
    "        \n",
    "        batch_X_padded = np.zeros(shape=(batch_size,max_length,input_size))\n",
    "        for b in range(batch_size):\n",
    "            batch_X_padded[b,:len(batch_X[b])] = batch_X[b]\n",
    "        \n",
    "        feed_dict = {\n",
    "            model.input_X: batch_X_padded,\n",
    "            model.input_y: batch_y,\n",
    "            model.dropout_keep_prob: dropout_keep_prob,\n",
    "            model.seq_len: seq_length\n",
    "        }\n",
    "        _, loss, acc = sess.run([model.train, model.loss, model.acc], feed_dict=feed_dict)\n",
    "        if steps % 100 == 0:\n",
    "            print(\"epochs: {}/{}, iters: {}, loss: {}, acc: {}\".format(epoch+1,epochs,steps, loss, acc))\n",
    "            summary = sess.run(merge_graph, feed_dict=feed_dict)\n",
    "            writer.add_summary(summary, global_steps)\n",
    "    for i in range(epochs):\n",
    "        steps = 0\n",
    "        for j in range(n_batchs):\n",
    "            batch_X, batch_y = train_X[steps*batch_size:(steps+1)*batch_size], train_y[steps*batch_size:(steps+1)*batch_size]\n",
    "            seq_length = train_seq_length[steps*batch_size:(steps+1)*batch_size]\n",
    "            try:\n",
    "                train_step(batch_X, batch_y, seq_length, steps, i)\n",
    "            except ValueError:\n",
    "                print(ValueError)\n",
    "            except KeyboardInterrupt:\n",
    "                saver.save(sess,save_path)\n",
    "                print(\"Model was saved\")\n",
    "                sys.exit(1)\n",
    "            steps += 1\n",
    "            global_steps += 1\n",
    "        saver.save(sess,save_path)\n",
    "    saver.save(sess,save_path)\n",
    "    print(\"Training finished\")\n",
    "    print(\"Model was saved\")\n",
    "    \n",
    "    end = time.time()\n",
    "    print(\"{} secs\".format(end-start))"
   ]
  },
  {
   "cell_type": "code",
   "execution_count": 38,
   "metadata": {},
   "outputs": [
    {
     "name": "stdout",
     "output_type": "stream",
     "text": [
      "Session started\n",
      "INFO:tensorflow:Restoring parameters from ./model/BiLSTM\n",
      "Model was loaded\n",
      "Batch 1 정확도: 84.38999938964844\n",
      "Batch 2 정확도: 84.33000183105469\n",
      "Batch 3 정확도: 83.97000122070312\n",
      "Batch 4 정확도: 84.20999908447266\n",
      "남은 데이터 수: 9997\n",
      "Batch 5 정확도: 75.1225357055664\n",
      "전체 정확도: 82.40450744628906\n"
     ]
    }
   ],
   "source": [
    "test_len = len(test_X)\n",
    "\n",
    "batch_size = 10000\n",
    "batchs = int(test_len/batch_size)\n",
    "\n",
    "with tf.Graph().as_default():\n",
    "    sess = tf.Session()\n",
    "    print(\"Session started\")\n",
    "    save_path = \"./model/BiLSTM\"\n",
    "    saver = tf.train.import_meta_graph(save_path+\".meta\")\n",
    "    saver.restore(sess, save_path)\n",
    "    graph = tf.get_default_graph()\n",
    "    print(\"Model was loaded\")\n",
    "    \n",
    "    input_X = graph.get_tensor_by_name(\"BiLSTM/input_X:0\")\n",
    "    input_y = graph.get_tensor_by_name(\"BiLSTM/input_y:0\")\n",
    "    dropout_keep_prob = graph.get_tensor_by_name(\"BiLSTM/dropout_keep_prob:0\")\n",
    "    output = graph.get_tensor_by_name(\"BiLSTM/output:0\")\n",
    "    seq_len = graph.get_tensor_by_name(\"BiLSTM/seq_len:0\")\n",
    "    acc = graph.get_tensor_by_name(\"BiLSTM/acc:0\")\n",
    "    \n",
    "    steps = 0\n",
    "    acc_total = 0\n",
    "    for b in range(batchs):\n",
    "        batch_X, batch_y = test_X[steps*batch_size:(steps+1)*batch_size], test_y[steps*batch_size:(steps+1)*batch_size]\n",
    "        batch_X_padded = np.zeros(shape=(batch_size,max_length,input_size))\n",
    "        for b in range(batch_size):\n",
    "            batch_X_padded[b,:len(batch_X[b])] = batch_X[b]\n",
    "        seq_len_ = test_seq_length[steps*batch_size:(steps+1)*batch_size]\n",
    "        feed_dict = {\n",
    "            input_X: batch_X_padded,\n",
    "            input_y: batch_y,\n",
    "            dropout_keep_prob: 1.0,\n",
    "            seq_len: seq_len_\n",
    "        }\n",
    "        acc_batch = sess.run(acc, feed_dict=feed_dict)\n",
    "        acc_total += acc_batch\n",
    "        steps += 1\n",
    "        print(\"Batch {} 정확도: {}\".format(steps,acc_batch))\n",
    "    batch_X, batch_y = test_X[steps*batch_size:], test_y[steps*batch_size:]\n",
    "    batch_size = len(batch_X)\n",
    "    print(\"남은 데이터 수: {}\".format(batch_size))\n",
    "    batch_X_padded = np.zeros(shape=(batch_size,max_length,input_size))\n",
    "    for b in range(batch_size):\n",
    "        batch_X_padded[b,:len(batch_X[b])] = batch_X[b]\n",
    "    seq_len_ = test_seq_length[steps*batch_size:(steps+1)*batch_size]\n",
    "    feed_dict = {\n",
    "        input_X: batch_X_padded,\n",
    "        input_y: batch_y,\n",
    "        dropout_keep_prob: 1.0,\n",
    "        seq_len: seq_len_\n",
    "    }\n",
    "    acc_batch = sess.run(acc, feed_dict=feed_dict)\n",
    "    acc_total += acc_batch\n",
    "    steps += 1\n",
    "    print(\"Batch {} 정확도: {}\".format(steps,acc_batch))\n",
    "    print(\"전체 정확도: {}\".format(acc_total/(steps)))"
   ]
  },
  {
   "cell_type": "code",
   "execution_count": null,
   "metadata": {},
   "outputs": [],
   "source": []
  }
 ],
 "metadata": {
  "kernelspec": {
   "display_name": "Python 3",
   "language": "python",
   "name": "python3"
  }
 },
 "nbformat": 4,
 "nbformat_minor": 2
}
